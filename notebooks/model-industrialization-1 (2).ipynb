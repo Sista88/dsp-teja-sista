{
 "cells": [
  {
   "cell_type": "markdown",
   "id": "4d6cb9e0",
   "metadata": {},
   "source": [
    "# Importing necessary libraries\n"
   ]
  },
  {
   "cell_type": "code",
   "execution_count": 157,
   "id": "6049ef6e",
   "metadata": {},
   "outputs": [],
   "source": [
    "import pandas as pd\n",
    "import numpy as np\n",
    "import matplotlib.pyplot as plt\n",
    "from sklearn.linear_model import LinearRegression\n",
    "from sklearn.model_selection import train_test_split\n",
    "from sklearn.preprocessing import OneHotEncoder\n",
    "from sklearn.metrics import mean_squared_log_error\n",
    "import math\n",
    "from sklearn.metrics import mean_squared_error\n",
    "from sklearn import metrics\n",
    "from sklearn.preprocessing import MinMaxScaler\n",
    "import joblib\n",
    "from sklearn import preprocessing"
   ]
  },
  {
   "cell_type": "markdown",
   "id": "7812a2ee",
   "metadata": {},
   "source": [
    "# Model Building"
   ]
  },
  {
   "cell_type": "code",
   "execution_count": 158,
   "id": "f3c4a93b",
   "metadata": {},
   "outputs": [],
   "source": [
    "houses_pred = pd.read_csv('train (2).csv')"
   ]
  },
  {
   "cell_type": "markdown",
   "id": "68a0933d",
   "metadata": {},
   "source": [
    "## Model training "
   ]
  },
  {
   "cell_type": "markdown",
   "id": "d7c9236c",
   "metadata": {},
   "source": [
    "### Dataset loading and splitting into train and test"
   ]
  },
  {
   "cell_type": "code",
   "execution_count": 159,
   "id": "a1ac7eab",
   "metadata": {},
   "outputs": [],
   "source": [
    "X = houses_pred"
   ]
  },
  {
   "cell_type": "code",
   "execution_count": 160,
   "id": "626b7885",
   "metadata": {},
   "outputs": [],
   "source": [
    "X = X.drop(\"SalePrice\", axis=1)"
   ]
  },
  {
   "cell_type": "code",
   "execution_count": 161,
   "id": "e01cd7d5",
   "metadata": {},
   "outputs": [],
   "source": [
    "y = houses_pred[\"SalePrice\"]"
   ]
  },
  {
   "cell_type": "code",
   "execution_count": 162,
   "id": "54efdc7d",
   "metadata": {},
   "outputs": [],
   "source": [
    "X_train, X_test, y_train, y_test = train_test_split(X, y, test_size = 0.2)"
   ]
  },
  {
   "cell_type": "markdown",
   "id": "de5a448f",
   "metadata": {},
   "source": [
    "### Preprocessing and feature engineering of the train set"
   ]
  },
  {
   "cell_type": "code",
   "execution_count": 163,
   "id": "cdc277fe",
   "metadata": {},
   "outputs": [],
   "source": [
    "X_train = X_train[['MSSubClass', 'MSZoning','Utilities', 'OverallQual', 'OverallCond', 'GarageArea', 'BldgType']]"
   ]
  },
  {
   "cell_type": "code",
   "execution_count": 164,
   "id": "7f5a7e3f",
   "metadata": {},
   "outputs": [],
   "source": [
    "mmscaler = MinMaxScaler()\n",
    "cols = ['GarageArea']\n",
    "mmscaler_obj = mmscaler.fit(X_train[cols])\n",
    "X_train[cols] = mmscaler_obj.transform(X_train[cols])"
   ]
  },
  {
   "cell_type": "code",
   "execution_count": 165,
   "id": "d8fb934e",
   "metadata": {},
   "outputs": [
    {
     "name": "stderr",
     "output_type": "stream",
     "text": [
      "/Users/suryatejasista/opt/anaconda3/envs/ml/lib/python3.9/site-packages/sklearn/utils/deprecation.py:87: FutureWarning: Function get_feature_names is deprecated; get_feature_names is deprecated in 1.0 and will be removed in 1.2. Please use get_feature_names_out instead.\n",
      "  warnings.warn(msg, category=FutureWarning)\n"
     ]
    }
   ],
   "source": [
    "encoder = OneHotEncoder(handle_unknown='ignore')\n",
    "onehotenc_obj = encoder.fit(X_train[['MSZoning', 'BldgType', 'Utilities']])\n",
    "filtered_transform_1 = pd.DataFrame(onehotenc_obj.transform(X_train[['MSZoning', 'BldgType', 'Utilities']]).toarray())\n",
    "filtered_transform_1.columns = onehotenc_obj.get_feature_names(['MSZoning', 'BldgType', 'Utilities'])\n",
    "X_train = pd.concat([X_train, filtered_transform_1], axis =1)"
   ]
  },
  {
   "cell_type": "code",
   "execution_count": 166,
   "id": "5cbc40d9",
   "metadata": {},
   "outputs": [],
   "source": [
    "X_train = X_train.drop(columns = ['MSZoning', 'Utilities', 'BldgType'], axis=1)"
   ]
  },
  {
   "cell_type": "code",
   "execution_count": 167,
   "id": "8d8e227d",
   "metadata": {},
   "outputs": [],
   "source": [
    "X_train = X_train.dropna()\n",
    "new_df_2 = pd.merge(X_train,y_train,how='inner',right_index = True, left_index=True)\n",
    "y = new_df_2['SalePrice']\n",
    "X = new_df_2.drop(columns = ['SalePrice'])\n",
    "X_train, X_test, y_train, y_test = train_test_split(X, y, test_size = 0.2, random_state = 42)"
   ]
  },
  {
   "cell_type": "markdown",
   "id": "74f4e6aa",
   "metadata": {},
   "source": [
    "### Model training"
   ]
  },
  {
   "cell_type": "code",
   "execution_count": 169,
   "id": "3b8ef0e7",
   "metadata": {},
   "outputs": [
    {
     "data": {
      "text/html": [
       "<style>#sk-container-id-3 {color: black;background-color: white;}#sk-container-id-3 pre{padding: 0;}#sk-container-id-3 div.sk-toggleable {background-color: white;}#sk-container-id-3 label.sk-toggleable__label {cursor: pointer;display: block;width: 100%;margin-bottom: 0;padding: 0.3em;box-sizing: border-box;text-align: center;}#sk-container-id-3 label.sk-toggleable__label-arrow:before {content: \"▸\";float: left;margin-right: 0.25em;color: #696969;}#sk-container-id-3 label.sk-toggleable__label-arrow:hover:before {color: black;}#sk-container-id-3 div.sk-estimator:hover label.sk-toggleable__label-arrow:before {color: black;}#sk-container-id-3 div.sk-toggleable__content {max-height: 0;max-width: 0;overflow: hidden;text-align: left;background-color: #f0f8ff;}#sk-container-id-3 div.sk-toggleable__content pre {margin: 0.2em;color: black;border-radius: 0.25em;background-color: #f0f8ff;}#sk-container-id-3 input.sk-toggleable__control:checked~div.sk-toggleable__content {max-height: 200px;max-width: 100%;overflow: auto;}#sk-container-id-3 input.sk-toggleable__control:checked~label.sk-toggleable__label-arrow:before {content: \"▾\";}#sk-container-id-3 div.sk-estimator input.sk-toggleable__control:checked~label.sk-toggleable__label {background-color: #d4ebff;}#sk-container-id-3 div.sk-label input.sk-toggleable__control:checked~label.sk-toggleable__label {background-color: #d4ebff;}#sk-container-id-3 input.sk-hidden--visually {border: 0;clip: rect(1px 1px 1px 1px);clip: rect(1px, 1px, 1px, 1px);height: 1px;margin: -1px;overflow: hidden;padding: 0;position: absolute;width: 1px;}#sk-container-id-3 div.sk-estimator {font-family: monospace;background-color: #f0f8ff;border: 1px dotted black;border-radius: 0.25em;box-sizing: border-box;margin-bottom: 0.5em;}#sk-container-id-3 div.sk-estimator:hover {background-color: #d4ebff;}#sk-container-id-3 div.sk-parallel-item::after {content: \"\";width: 100%;border-bottom: 1px solid gray;flex-grow: 1;}#sk-container-id-3 div.sk-label:hover label.sk-toggleable__label {background-color: #d4ebff;}#sk-container-id-3 div.sk-serial::before {content: \"\";position: absolute;border-left: 1px solid gray;box-sizing: border-box;top: 0;bottom: 0;left: 50%;z-index: 0;}#sk-container-id-3 div.sk-serial {display: flex;flex-direction: column;align-items: center;background-color: white;padding-right: 0.2em;padding-left: 0.2em;position: relative;}#sk-container-id-3 div.sk-item {position: relative;z-index: 1;}#sk-container-id-3 div.sk-parallel {display: flex;align-items: stretch;justify-content: center;background-color: white;position: relative;}#sk-container-id-3 div.sk-item::before, #sk-container-id-3 div.sk-parallel-item::before {content: \"\";position: absolute;border-left: 1px solid gray;box-sizing: border-box;top: 0;bottom: 0;left: 50%;z-index: -1;}#sk-container-id-3 div.sk-parallel-item {display: flex;flex-direction: column;z-index: 1;position: relative;background-color: white;}#sk-container-id-3 div.sk-parallel-item:first-child::after {align-self: flex-end;width: 50%;}#sk-container-id-3 div.sk-parallel-item:last-child::after {align-self: flex-start;width: 50%;}#sk-container-id-3 div.sk-parallel-item:only-child::after {width: 0;}#sk-container-id-3 div.sk-dashed-wrapped {border: 1px dashed gray;margin: 0 0.4em 0.5em 0.4em;box-sizing: border-box;padding-bottom: 0.4em;background-color: white;}#sk-container-id-3 div.sk-label label {font-family: monospace;font-weight: bold;display: inline-block;line-height: 1.2em;}#sk-container-id-3 div.sk-label-container {text-align: center;}#sk-container-id-3 div.sk-container {/* jupyter's `normalize.less` sets `[hidden] { display: none; }` but bootstrap.min.css set `[hidden] { display: none !important; }` so we also need the `!important` here to be able to override the default hidden behavior on the sphinx rendered scikit-learn.org. See: https://github.com/scikit-learn/scikit-learn/issues/21755 */display: inline-block !important;position: relative;}#sk-container-id-3 div.sk-text-repr-fallback {display: none;}</style><div id=\"sk-container-id-3\" class=\"sk-top-container\"><div class=\"sk-text-repr-fallback\"><pre>LinearRegression()</pre><b>In a Jupyter environment, please rerun this cell to show the HTML representation or trust the notebook. <br />On GitHub, the HTML representation is unable to render, please try loading this page with nbviewer.org.</b></div><div class=\"sk-container\" hidden><div class=\"sk-item\"><div class=\"sk-estimator sk-toggleable\"><input class=\"sk-toggleable__control sk-hidden--visually\" id=\"sk-estimator-id-3\" type=\"checkbox\" checked><label for=\"sk-estimator-id-3\" class=\"sk-toggleable__label sk-toggleable__label-arrow\">LinearRegression</label><div class=\"sk-toggleable__content\"><pre>LinearRegression()</pre></div></div></div></div></div>"
      ],
      "text/plain": [
       "LinearRegression()"
      ]
     },
     "execution_count": 169,
     "metadata": {},
     "output_type": "execute_result"
    }
   ],
   "source": [
    "model = LinearRegression()\n",
    "model.fit(X_train, y_train)"
   ]
  },
  {
   "cell_type": "code",
   "execution_count": 172,
   "id": "9486dfdd",
   "metadata": {},
   "outputs": [
    {
     "data": {
      "text/plain": [
       "['models/mmscaler.joblib']"
      ]
     },
     "execution_count": 172,
     "metadata": {},
     "output_type": "execute_result"
    }
   ],
   "source": [
    "joblib.dump(mmscaler_obj, 'models/mmscaler.joblib')"
   ]
  },
  {
   "cell_type": "code",
   "execution_count": 173,
   "id": "f70327cb",
   "metadata": {},
   "outputs": [
    {
     "data": {
      "text/plain": [
       "['models/onehotencoder.joblib']"
      ]
     },
     "execution_count": 173,
     "metadata": {},
     "output_type": "execute_result"
    }
   ],
   "source": [
    "joblib.dump(onehotenc_obj, 'models/onehotencoder.joblib')"
   ]
  },
  {
   "cell_type": "code",
   "execution_count": 174,
   "id": "6664e66f",
   "metadata": {},
   "outputs": [
    {
     "data": {
      "text/plain": [
       "['models/model.joblib']"
      ]
     },
     "execution_count": 174,
     "metadata": {},
     "output_type": "execute_result"
    }
   ],
   "source": [
    "joblib.dump(model, 'models/model.joblib')"
   ]
  },
  {
   "cell_type": "markdown",
   "id": "58db2ca3",
   "metadata": {},
   "source": [
    "###  Model evaluation"
   ]
  },
  {
   "cell_type": "code",
   "execution_count": 170,
   "id": "36cfcb01",
   "metadata": {},
   "outputs": [],
   "source": [
    "y_pred = abs(model.predict(X_test))"
   ]
  },
  {
   "cell_type": "code",
   "execution_count": 171,
   "id": "22781ae9",
   "metadata": {},
   "outputs": [
    {
     "data": {
      "text/plain": [
       "0.25"
      ]
     },
     "execution_count": 171,
     "metadata": {},
     "output_type": "execute_result"
    }
   ],
   "source": [
    "def compute_rmsle(y_test: np.ndarray, y_pred: np.ndarray, precision: int = 2) -> float:\n",
    "    rmsle = np.sqrt(mean_squared_log_error(y_test, y_pred))\n",
    "    return round(rmsle, precision)\n",
    "\n",
    "compute_rmsle(y_test, y_pred)"
   ]
  },
  {
   "cell_type": "markdown",
   "id": "de3b921c",
   "metadata": {},
   "source": [
    "## Model Inference"
   ]
  },
  {
   "cell_type": "markdown",
   "id": "4f89bd0b",
   "metadata": {},
   "source": [
    "### Reading data from a given file (test.csv file in your case)"
   ]
  },
  {
   "cell_type": "code",
   "execution_count": 192,
   "id": "fec886b8",
   "metadata": {},
   "outputs": [],
   "source": [
    "test_df = pd.read_csv('test (1).csv')"
   ]
  },
  {
   "cell_type": "markdown",
   "id": "4d109aa6",
   "metadata": {},
   "source": [
    "### Preprocessing and feature engineering of this data"
   ]
  },
  {
   "cell_type": "code",
   "execution_count": 193,
   "id": "23920a32",
   "metadata": {},
   "outputs": [],
   "source": [
    "X_test_df = test_df[['MSSubClass', 'MSZoning','Utilities', 'OverallQual', 'OverallCond', 'GarageArea', 'BldgType']]"
   ]
  },
  {
   "cell_type": "code",
   "execution_count": 194,
   "id": "0cb4186c",
   "metadata": {},
   "outputs": [],
   "source": [
    "mmscaler = joblib.load('models/mmscaler.joblib')"
   ]
  },
  {
   "cell_type": "code",
   "execution_count": 195,
   "id": "1dba0254",
   "metadata": {},
   "outputs": [
    {
     "name": "stderr",
     "output_type": "stream",
     "text": [
      "/var/folders/5r/838df99x261_0xzfv2s1wz4r0000gn/T/ipykernel_10840/781855492.py:1: SettingWithCopyWarning: \n",
      "A value is trying to be set on a copy of a slice from a DataFrame.\n",
      "Try using .loc[row_indexer,col_indexer] = value instead\n",
      "\n",
      "See the caveats in the documentation: https://pandas.pydata.org/pandas-docs/stable/user_guide/indexing.html#returning-a-view-versus-a-copy\n",
      "  X_test_df[cols] = mmscaler.transform(X_test_df[cols])\n"
     ]
    }
   ],
   "source": [
    "X_test_df[cols] = mmscaler.transform(X_test_df[cols])"
   ]
  },
  {
   "cell_type": "code",
   "execution_count": 196,
   "id": "54164d31",
   "metadata": {},
   "outputs": [],
   "source": [
    "onehotencoder = joblib.load('models/onehotencoder.joblib')"
   ]
  },
  {
   "cell_type": "code",
   "execution_count": 197,
   "id": "70212511",
   "metadata": {},
   "outputs": [
    {
     "name": "stderr",
     "output_type": "stream",
     "text": [
      "/Users/suryatejasista/opt/anaconda3/envs/ml/lib/python3.9/site-packages/sklearn/utils/deprecation.py:87: FutureWarning: Function get_feature_names is deprecated; get_feature_names is deprecated in 1.0 and will be removed in 1.2. Please use get_feature_names_out instead.\n",
      "  warnings.warn(msg, category=FutureWarning)\n"
     ]
    }
   ],
   "source": [
    "filtered_transform_1 = pd.DataFrame(onehotencoder.transform(X_test_df[['MSZoning', 'BldgType', 'Utilities']]).toarray())\n",
    "filtered_transform_1.columns = onehotencoder.get_feature_names(['MSZoning', 'BldgType', 'Utilities'])\n",
    "X_test_df = pd.concat([X_test_df, filtered_transform_1], axis =1)"
   ]
  },
  {
   "cell_type": "code",
   "execution_count": 198,
   "id": "d4d65cca",
   "metadata": {},
   "outputs": [],
   "source": [
    "X_test_df = X_test_df.drop(columns = ['MSZoning', 'Utilities', 'BldgType'], axis=1)"
   ]
  },
  {
   "cell_type": "code",
   "execution_count": 199,
   "id": "ea232ec9",
   "metadata": {},
   "outputs": [],
   "source": [
    "X_test_df = X_test_df.dropna()"
   ]
  },
  {
   "cell_type": "code",
   "execution_count": 200,
   "id": "05a4a682",
   "metadata": {},
   "outputs": [],
   "source": [
    "lin_reg_model = joblib.load('models/model.joblib')"
   ]
  },
  {
   "cell_type": "markdown",
   "id": "5dd7ce54",
   "metadata": {},
   "source": [
    "### Predicting the house prices of this data"
   ]
  },
  {
   "cell_type": "code",
   "execution_count": 201,
   "id": "4c8fcb88",
   "metadata": {},
   "outputs": [
    {
     "data": {
      "text/plain": [
       "array([167362.15500866, 166342.18961277, 141498.5084672 , ...,\n",
       "       156909.41014508,  87434.59932243, 232343.06763317])"
      ]
     },
     "execution_count": 201,
     "metadata": {},
     "output_type": "execute_result"
    }
   ],
   "source": [
    "y_pred_test = abs(lin_reg_model.predict(X_test_df))\n",
    "y_pred_test"
   ]
  }
 ],
 "metadata": {
  "kernelspec": {
   "display_name": "Python 3 (ipykernel)",
   "language": "python",
   "name": "python3"
  },
  "language_info": {
   "codemirror_mode": {
    "name": "ipython",
    "version": 3
   },
   "file_extension": ".py",
   "mimetype": "text/x-python",
   "name": "python",
   "nbconvert_exporter": "python",
   "pygments_lexer": "ipython3",
   "version": "3.9.13"
  }
 },
 "nbformat": 4,
 "nbformat_minor": 5
}
