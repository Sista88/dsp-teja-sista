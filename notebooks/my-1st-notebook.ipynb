{
 "cells": [
  {
   "cell_type": "markdown",
   "id": "4f2d980b",
   "metadata": {},
   "source": [
    "#                                    Create and visualize \"numpy\" array"
   ]
  },
  {
   "cell_type": "markdown",
   "id": "44a5fce6",
   "metadata": {},
   "source": [
    "## Importing necessary library"
   ]
  },
  {
   "cell_type": "code",
   "execution_count": 1,
   "id": "0c9a82da",
   "metadata": {},
   "outputs": [],
   "source": [
    "import numpy as np"
   ]
  },
  {
   "cell_type": "code",
   "execution_count": 2,
   "id": "78854f5d",
   "metadata": {},
   "outputs": [],
   "source": [
    "rand_int = np.random.randint(1, 100, (10, 3))"
   ]
  },
  {
   "cell_type": "markdown",
   "id": "d2b907b9",
   "metadata": {},
   "source": [
    "### My numpy array is"
   ]
  },
  {
   "cell_type": "code",
   "execution_count": 3,
   "id": "5802d503",
   "metadata": {},
   "outputs": [
    {
     "name": "stdout",
     "output_type": "stream",
     "text": [
      "my array is: [[80 57 69]\n",
      " [13 43 64]\n",
      " [93 52 95]\n",
      " [20 43 53]\n",
      " [96  5 74]\n",
      " [98 97 60]\n",
      " [50 44 65]\n",
      " [15 88 27]\n",
      " [94 96 67]\n",
      " [18 95 25]]\n"
     ]
    }
   ],
   "source": [
    "print(\"my array is:\", rand_int)"
   ]
  }
 ],
 "metadata": {
  "kernelspec": {
   "display_name": "Python 3 (ipykernel)",
   "language": "python",
   "name": "python3"
  },
  "language_info": {
   "codemirror_mode": {
    "name": "ipython",
    "version": 3
   },
   "file_extension": ".py",
   "mimetype": "text/x-python",
   "name": "python",
   "nbconvert_exporter": "python",
   "pygments_lexer": "ipython3",
   "version": "3.9.13"
  }
 },
 "nbformat": 4,
 "nbformat_minor": 5
}
