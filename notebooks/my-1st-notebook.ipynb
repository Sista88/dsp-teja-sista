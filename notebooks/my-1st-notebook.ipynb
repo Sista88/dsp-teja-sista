{
 "cells": [
  {
   "cell_type": "markdown",
   "id": "4f2d980b",
   "metadata": {},
   "source": [
    "#                                    Create and visualize \"numpy\" array"
   ]
  },
  {
   "cell_type": "markdown",
   "id": "44a5fce6",
   "metadata": {},
   "source": [
    "## Importing necessary library"
   ]
  },
  {
   "cell_type": "code",
   "execution_count": 1,
   "id": "0c9a82da",
   "metadata": {},
   "outputs": [],
   "source": [
    "import numpy as np"
   ]
  },
  {
   "cell_type": "code",
   "execution_count": 4,
   "id": "78854f5d",
   "metadata": {},
   "outputs": [],
   "source": [
    "rand_int = np.random.randint(1, 100, (10, 3))"
   ]
  },
  {
   "cell_type": "markdown",
   "id": "d2b907b9",
   "metadata": {},
   "source": [
    "### My numpy array is"
   ]
  },
  {
   "cell_type": "code",
   "execution_count": 5,
   "id": "5802d503",
   "metadata": {},
   "outputs": [
    {
     "name": "stdout",
     "output_type": "stream",
     "text": [
      "my array is: [[ 1 72 41]\n",
      " [85 89 15]\n",
      " [54 19 73]\n",
      " [76 94 48]\n",
      " [45 97  6]\n",
      " [67 95 29]\n",
      " [96 15  9]\n",
      " [17 71 11]\n",
      " [22 74 44]\n",
      " [32 13 18]]\n"
     ]
    }
   ],
   "source": [
    "print(\"my array is:\", rand_int)"
   ]
  },
  {
   "cell_type": "code",
   "execution_count": null,
   "id": "95b7694d",
   "metadata": {},
   "outputs": [],
   "source": []
  },
  {
   "cell_type": "code",
   "execution_count": null,
   "id": "59e82dbf",
   "metadata": {},
   "outputs": [],
   "source": []
  },
  {
   "cell_type": "code",
   "execution_count": null,
   "id": "dcfc01b1",
   "metadata": {},
   "outputs": [],
   "source": []
  },
  {
   "cell_type": "code",
   "execution_count": null,
   "id": "171b4540",
   "metadata": {},
   "outputs": [],
   "source": []
  }
 ],
 "metadata": {
  "kernelspec": {
   "display_name": "Python 3 (ipykernel)",
   "language": "python",
   "name": "python3"
  },
  "language_info": {
   "codemirror_mode": {
    "name": "ipython",
    "version": 3
   },
   "file_extension": ".py",
   "mimetype": "text/x-python",
   "name": "python",
   "nbconvert_exporter": "python",
   "pygments_lexer": "ipython3",
   "version": "3.9.13"
  }
 },
 "nbformat": 4,
 "nbformat_minor": 5
}
